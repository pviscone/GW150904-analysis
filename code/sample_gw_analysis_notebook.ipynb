{
 "cells": [
  {
   "cell_type": "markdown",
   "metadata": {},
   "source": [
    "Department of Physics, University of Pisa (AA 2020-2021)\n",
    "\n",
    "### Multimessenger Physics Laboratory\n",
    "\n",
    "\n",
    "\n",
    "## Data Analysis experience - Gravitational Waves \n",
    "#### (M. Razzano, Apr 24,2021)\n",
    "\n",
    "This notebook serves as outline for the data analysis experience of gravitational wave events from coalescing systems. You can see more details on the various commands in the tutorial stored in the tutorials directory.\n",
    "\n",
    "**Do not forget** to add the extra files that you might use for the analysis, e.g. the data files to this Github repository in the data directory\n",
    "\n",
    "More details are contained in the PDF file containing the description of this experience, that is available on Moodle (e-learning)"
   ]
  },
  {
   "cell_type": "markdown",
   "metadata": {},
   "source": [
    "### Basic Setup\n",
    "First of all, we import the required modules and we download the data file."
   ]
  },
  {
   "cell_type": "code",
   "execution_count": 1,
   "metadata": {
    "colab": {},
    "colab_type": "code",
    "id": "5M-SnOdC1PqH"
   },
   "outputs": [],
   "source": [
    "import os   #These two are useful modules\n",
    "import sys\n",
    "\n",
    "#here you can import other useful modules, such as numpy, matplotlib, etc..\n",
    "import numpy as np #Numerical Python\n",
    "import matplotlib.pyplot as plt\n",
    "\n",
    "#also import astropy.fits\n",
    "from astropy.io import fits"
   ]
  },
  {
   "cell_type": "markdown",
   "metadata": {},
   "source": [
    "**Important** Within the notebook you can run BASH command, by putting a ! before the command. For instance, if you want to run a ls command, type !ls"
   ]
  },
  {
   "cell_type": "code",
   "execution_count": 2,
   "metadata": {},
   "outputs": [
    {
     "name": "stdout",
     "output_type": "stream",
     "text": [
      "/home/jovyan/exp-gw/code\n"
     ]
    }
   ],
   "source": [
    "# you can run the pwd command (Print Working Directory) to see your directory\n",
    "!pwd"
   ]
  },
  {
   "cell_type": "code",
   "execution_count": 3,
   "metadata": {},
   "outputs": [
    {
     "name": "stdout",
     "output_type": "stream",
     "text": [
      "total 8\n",
      "-rw-r--r-- 1 jovyan users 6514 Apr 29 10:17 sample_gw_analysis_notebook.ipynb\n"
     ]
    }
   ],
   "source": [
    "#or you can run ls command to list the directory where you are\n",
    "# (-l indicates that you can see all the properties of the file)\n",
    "!ls -l"
   ]
  },
  {
   "cell_type": "code",
   "execution_count": 4,
   "metadata": {},
   "outputs": [
    {
     "name": "stdout",
     "output_type": "stream",
     "text": [
      "total 60\n",
      "drwxr-sr-x 3 jovyan users  4096 Apr 29 10:17 code\n",
      "drwxr-sr-x 2 jovyan users  4096 Apr 29 09:57 data\n",
      "-rw-r--r-- 1 jovyan users 35149 Apr 29 09:57 LICENSE\n",
      "-rw-r--r-- 1 jovyan users  1513 Apr 29 09:58 README.md\n",
      "drwxr-sr-x 2 jovyan users  4096 Apr 29 09:57 report\n",
      "drwxr-sr-x 2 jovyan users  4096 Apr 29 10:03 results\n",
      "drwxr-sr-x 3 jovyan users  4096 Apr 29 10:15 tutorials\n"
     ]
    }
   ],
   "source": [
    "#or the one above you\n",
    "!ls -l ../"
   ]
  },
  {
   "cell_type": "markdown",
   "metadata": {},
   "source": [
    "### Let's set some useful variables\n",
    "The data are stored in a \"data\" directory at the same level of the \"code\" directory where you are now. Let's do some work to navigate the directory...\n",
    "We will use the *os* module, in particular the *os.path* submodule.\n",
    "\n",
    "**Note**: In this case we define the directories directly in this notebook, instead of using environment variables. For this examples, it is easier..."
   ]
  },
  {
   "cell_type": "code",
   "execution_count": 5,
   "metadata": {
    "colab": {
     "base_uri": "https://localhost:8080/",
     "height": 35
    },
    "colab_type": "code",
    "id": "VCBKOr9W1PqQ",
    "outputId": "697a0956-195b-4204-c47d-912aa384e147"
   },
   "outputs": [
    {
     "name": "stdout",
     "output_type": "stream",
     "text": [
      "I am in dir /home/jovyan/exp-gw/code\n",
      "Main directory is /home/jovyan/exp-gw\n",
      "Data directory is /home/jovyan/exp-gw/data\n",
      "Results directory is /home/jovyan/exp-gw/data\n"
     ]
    }
   ],
   "source": [
    "# Let's define te directory where you are with the \"get current working directory\" command...\n",
    "work_dir = os.getcwd()\n",
    "print(\"I am in dir %s\" % work_dir)\n",
    "\n",
    "#We can go up by using the path.dirname\n",
    "main_dir =os.path.dirname(work_dir)\n",
    "print(\"Main directory is %s\" % main_dir)\n",
    "\n",
    "#We can then define the data directory using the os.path.join command\n",
    "data_dir = os.path.join(main_dir,\"data\")\n",
    "print(\"Data directory is %s\" % data_dir)\n",
    "\n",
    "#..and we can define some output directory with the results\n",
    "results_dir = os.path.join(main_dir,\"results\")\n",
    "\n",
    "#if the directory does not exist, you can create it...\n",
    "if not os.path.exists(results_dir):\n",
    "    os.mkdir(results_dir)\n",
    "    print(\"Directory %s created!\" % results_dir)\n",
    "else:\n",
    "    print(\"Results directory is %s\" % data_dir)\n",
    "    "
   ]
  },
  {
   "cell_type": "markdown",
   "metadata": {
    "colab": {
     "base_uri": "https://localhost:8080/",
     "height": 35
    },
    "colab_type": "code",
    "id": "h-0oY8XQ1PqW",
    "outputId": "8c5458f5-c9d6-47de-e466-0ae46b965bf0"
   },
   "source": [
    "### Let's get started\n",
    "After this basic setup, you are ready to start with the analysis. Enjoy!"
   ]
  },
  {
   "cell_type": "code",
   "execution_count": null,
   "metadata": {},
   "outputs": [],
   "source": []
  }
 ],
 "metadata": {
  "colab": {
   "name": "exercise1-read-csv.ipynb",
   "provenance": []
  },
  "kernelspec": {
   "display_name": "Python 3",
   "language": "python",
   "name": "python3"
  },
  "language_info": {
   "codemirror_mode": {
    "name": "ipython",
    "version": 3
   },
   "file_extension": ".py",
   "mimetype": "text/x-python",
   "name": "python",
   "nbconvert_exporter": "python",
   "pygments_lexer": "ipython3",
   "version": "3.8.5"
  }
 },
 "nbformat": 4,
 "nbformat_minor": 4
}
